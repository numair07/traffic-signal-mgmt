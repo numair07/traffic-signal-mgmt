{
 "cells": [
  {
   "cell_type": "code",
   "execution_count": 38,
   "id": "8ccc0f9f",
   "metadata": {},
   "outputs": [],
   "source": [
    "import cv2"
   ]
  },
  {
   "cell_type": "code",
   "execution_count": 39,
   "id": "a37a4624",
   "metadata": {},
   "outputs": [],
   "source": [
    "def calculateVehicles(path):\n",
    "    \n",
    "    vidCap = cv2.VideoCapture(path)\n",
    "\n",
    "    BS_KNN = cv2.createBackgroundSubtractorKNN()\n",
    "    BS_MOG2 = cv2.createBackgroundSubtractorMOG2()\n",
    "    vehicle = 0\n",
    "    validVehicles = []\n",
    "    while vidCap.isOpened():\n",
    "        ret, frame = vidCap.read()\n",
    "\n",
    "        if not ret:\n",
    "            break\n",
    "\n",
    "        fgMask = BS_MOG2.apply(frame)\n",
    "\n",
    "        cv2.line(frame, (220,450), (1000,450), (0,0,255), 2) # RED Line\n",
    "        cv2.line(frame, (220,440), (1000,440), (0,255,0), 1) # GREEN Offset ABOVE\n",
    "        cv2.line(frame, (220,460), (1000,460), (0,255,0), 1) # GREEN Offset BELOW\n",
    "\n",
    "        conts, _ = cv2.findContours(fgMask, cv2.RETR_LIST, cv2.CHAIN_APPROX_SIMPLE)\n",
    "\n",
    "        for c in conts:\n",
    "            x, y, w, h = cv2.boundingRect(c)\n",
    "\n",
    "            visibleVehicle = (w > 60) and (h > 60)\n",
    "            if not visibleVehicle:\n",
    "                continue\n",
    "\n",
    "            if x > 250 and x < 450 and y > 180:\n",
    "                cv2.rectangle(frame, (x,y), (x+w, y+h), (0,255,0), 2)\n",
    "                xMid = int((x + (x+w))/2)\n",
    "                yMid = int((y + (y+h))/2)\n",
    "                cv2.circle(frame, (xMid,yMid),5,(0,0,255),5)\n",
    "\n",
    "                validVehicles.append((xMid,yMid))\n",
    "\n",
    "                if yMid > 442 and yMid < 451:\n",
    "                    vehicle += 1\n",
    "\n",
    "        #print(vehicle);\n",
    "        cv2.putText(frame, 'Total Vehicles : {}'.format(vehicle), (450, 50), cv2.FONT_HERSHEY_PLAIN, 2, (255,255,255), 2)\n",
    "        cv2.imshow(\"Vehicle Count\", frame)\n",
    "\n",
    "        # wait for any key to be pressed\n",
    "        if cv2.waitKey(1) & 0xFF == ord('q'):\n",
    "            break\n",
    "\n",
    "        # release video capture\n",
    "    cv2.destroyAllWindows()\n",
    "    vidCap.release()\n",
    "    return vehicle\n"
   ]
  },
  {
   "cell_type": "code",
   "execution_count": 40,
   "id": "12b5dfc5",
   "metadata": {},
   "outputs": [
    {
     "name": "stdout",
     "output_type": "stream",
     "text": [
      "Traffic Signal 1 : 6\n",
      "Traffic Signal 2 : 2\n",
      "Traffic Signal 3 : 3\n",
      "Traffic Signal 4 : 4\n",
      "Time that traffic signal 0 will remain open for - 84 seconds\n",
      "Time that traffic signal 1 will remain open for - 41 seconds\n",
      "Time that traffic signal 2 will remain open for - 52 seconds\n",
      "Time that traffic signal 3 will remain open for - 62 seconds\n"
     ]
    }
   ],
   "source": [
    "vehicleCount = []\n",
    "\n",
    "trafficSignal1 = calculateVehicles('./Downloads/traffic1.mp4')\n",
    "trafficSignal2 = calculateVehicles('./Downloads/traffic2.mp4')\n",
    "trafficSignal3 = calculateVehicles('./Downloads/traffic3.mp4')\n",
    "trafficSignal4 = calculateVehicles('./Downloads/traffic4.mp4')\n",
    "\n",
    "vehicleCount.append(trafficSignal1)\n",
    "print('Traffic Signal 1 : ' + str(trafficSignal1))\n",
    "vehicleCount.append(trafficSignal2)\n",
    "print('Traffic Signal 2 : ' + str(trafficSignal2))\n",
    "vehicleCount.append(trafficSignal3)\n",
    "print('Traffic Signal 3 : ' + str(trafficSignal3))\n",
    "vehicleCount.append(trafficSignal4)\n",
    "print('Traffic Signal 4 : ' + str(trafficSignal4))\n",
    "\n",
    "minTrafficSignalTime = 20\n",
    "averageSignalTime = 60\n",
    "totalTime = averageSignalTime * 4\n",
    "relevantTime = totalTime-(minTrafficSignalTime*4)\n",
    "\n",
    "totalVehicles=0\n",
    "\n",
    "for x in vehicleCount:\n",
    "    totalVehicles += x\n",
    "\n",
    "for i in range(len(vehicleCount)):\n",
    "        print(\"Time that traffic signal \" + str(i) + \" will remain open for - \" + str(int(20 + vehicleCount[i]/totalVehicles*relevantTime)) + \" seconds\")\n"
   ]
  },
  {
   "cell_type": "code",
   "execution_count": null,
   "id": "e4a848c5",
   "metadata": {},
   "outputs": [],
   "source": []
  }
 ],
 "metadata": {
  "kernelspec": {
   "display_name": "Python 3",
   "language": "python",
   "name": "python3"
  },
  "language_info": {
   "codemirror_mode": {
    "name": "ipython",
    "version": 3
   },
   "file_extension": ".py",
   "mimetype": "text/x-python",
   "name": "python",
   "nbconvert_exporter": "python",
   "pygments_lexer": "ipython3",
   "version": "3.9.5"
  }
 },
 "nbformat": 4,
 "nbformat_minor": 5
}
